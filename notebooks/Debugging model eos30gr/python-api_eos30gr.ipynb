{
 "cells": [
  {
   "cell_type": "code",
   "execution_count": 1,
   "metadata": {},
   "outputs": [],
   "source": [
    "#import main class \n",
    "from ersilia import ErsiliaModel"
   ]
  },
  {
   "cell_type": "code",
   "execution_count": 2,
   "metadata": {},
   "outputs": [],
   "source": [
    "# instantiate the model\n",
    "mdl = ErsiliaModel(\"eos30gr\")"
   ]
  },
  {
   "cell_type": "code",
   "execution_count": 3,
   "metadata": {},
   "outputs": [],
   "source": [
    "# Halicin and Ibuprofen\n",
    "input = [\n",
    "    \"C1=C(SC(=N1)SC2=NN=C(S2)N)[N+](=O)[O-]\",\n",
    "    \"CC(C)CC1=CC=C(C=C1)C(C)C(=O)O\"\n",
    "]\n",
    "#serve model\n",
    "mdl.serve()\n",
    "data = mdl.run(input, output=\"pandas\")"
   ]
  },
  {
   "cell_type": "code",
   "execution_count": 4,
   "metadata": {},
   "outputs": [],
   "source": [
    "\n",
    "# save to file\n",
    "data.to_csv(\"./outputs/output-python-api_eos30gr.csv\", index=False)"
   ]
  },
  {
   "cell_type": "code",
   "execution_count": 5,
   "metadata": {},
   "outputs": [],
   "source": [
    "# close model\n",
    "mdl.close()"
   ]
  }
 ],
 "metadata": {
  "kernelspec": {
   "display_name": "Python 3",
   "language": "python",
   "name": "python3"
  },
  "language_info": {
   "codemirror_mode": {
    "name": "ipython",
    "version": 3
   },
   "file_extension": ".py",
   "mimetype": "text/x-python",
   "name": "python",
   "nbconvert_exporter": "python",
   "pygments_lexer": "ipython3",
   "version": "3.7.12"
  }
 },
 "nbformat": 4,
 "nbformat_minor": 2
}
