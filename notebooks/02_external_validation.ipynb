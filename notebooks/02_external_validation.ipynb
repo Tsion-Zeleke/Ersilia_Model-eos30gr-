{
 "cells": [
  {
   "cell_type": "markdown",
   "metadata": {},
   "source": [
    "# Model validation with external data\n",
    "In this notebook I will try to get the performance of the model on an external dataset I have obtained from ChEMBL [here](https://www.ebi.ac.uk/chembl/assay_report_card/CHEMBL1794573/)\n",
    "- The dataset contains [Small Molecule Inhibitors of the Human hERG Channel Activity](https://www.ebi.ac.uk/chembl/assay_report_card/CHEMBL1794573/)\n",
    "- I'll Clean the [dataset](https://www.ebi.ac.uk/chembl/g/#browse/compounds/filter/_metadata.related_assays.all_chembl_ids%3ACHEMBL1794573)\n",
    "- Add class to represent hERG blokers\n",
    "- Run prediction for the smae smile suing eos30(the model implemented by ersilia)\n",
    "- Compare results using several ML performance metrics"
   ]
  },
  {
   "cell_type": "markdown",
   "metadata": {},
   "source": [
    "# Table of Contents\n",
    "- [Load and clean external dataset](#section-1)\n",
    "- [Run eos30gr model with new data](#section-2)\n",
    "- [Remove molecules which are availalbe in the eos30gr training and validation set](#section-3)\n",
    "- [Compare both outputs and visualize analysis](#section-4)"
   ]
  },
  {
   "cell_type": "code",
   "execution_count": 4,
   "metadata": {},
   "outputs": [],
   "source": [
    "#import necessay files and fload file\n",
    "import pandas as pd\n",
    "from rdkit import Chem\n",
    "import os\n",
    "external_Dataset = os.path.abspath('../data/Task3/hERG_Blockers_Data_from_CHEMBL.csv')\n"
   ]
  },
  {
   "cell_type": "markdown",
   "metadata": {},
   "source": [
    "<a id='section-1'></a>\n",
    "### Load and clean hERG blockers dataset from CHEMBL"
   ]
  },
  {
   "cell_type": "code",
   "execution_count": 5,
   "metadata": {},
   "outputs": [],
   "source": [
    "# Read the CSV file\n",
    "df = pd.read_csv(external_Dataset, delimiter=';')\n",
    "\n",
    "# Keep only the 'Smiles' column and add a 'Class' column with value 1\n",
    "df = df[['Smiles']].copy()\n",
    "df['Class'] = 1\n",
    "# Save the cleaned data to a new CSV file\n",
    "df.to_csv('../data/Task3/cleaned_external_dataset.csv', index=False)"
   ]
  },
  {
   "cell_type": "code",
   "execution_count": 7,
   "metadata": {},
   "outputs": [
    {
     "name": "stdout",
     "output_type": "stream",
     "text": [
      "Index(['Smiles', 'Class'], dtype='object')\n"
     ]
    },
    {
     "ename": "TypeError",
     "evalue": "No registered converter was able to produce a C++ rvalue of type class std::basic_string<wchar_t,struct std::char_traits<wchar_t>,class std::allocator<wchar_t> > from this Python object of type float",
     "output_type": "error",
     "traceback": [
      "\u001b[1;31m---------------------------------------------------------------------------\u001b[0m",
      "\u001b[1;31mTypeError\u001b[0m                                 Traceback (most recent call last)",
      "Cell \u001b[1;32mIn[7], line 10\u001b[0m\n\u001b[0;32m      8\u001b[0m valid_smiles \u001b[38;5;241m=\u001b[39m []\n\u001b[0;32m      9\u001b[0m \u001b[38;5;28;01mfor\u001b[39;00m smile \u001b[38;5;129;01min\u001b[39;00m cleaned_df[\u001b[38;5;124m'\u001b[39m\u001b[38;5;124mSmiles\u001b[39m\u001b[38;5;124m'\u001b[39m]:\n\u001b[1;32m---> 10\u001b[0m     mol \u001b[38;5;241m=\u001b[39m \u001b[43mChem\u001b[49m\u001b[38;5;241;43m.\u001b[39;49m\u001b[43mMolFromSmiles\u001b[49m\u001b[43m(\u001b[49m\u001b[43msmile\u001b[49m\u001b[43m)\u001b[49m\n\u001b[0;32m     11\u001b[0m     \u001b[38;5;28;01mif\u001b[39;00m mol \u001b[38;5;129;01mis\u001b[39;00m \u001b[38;5;129;01mnot\u001b[39;00m \u001b[38;5;28;01mNone\u001b[39;00m:\n\u001b[0;32m     12\u001b[0m         valid_smiles\u001b[38;5;241m.\u001b[39mappend(Chem\u001b[38;5;241m.\u001b[39mMolToSmiles(mol))\n",
      "\u001b[1;31mTypeError\u001b[0m: No registered converter was able to produce a C++ rvalue of type class std::basic_string<wchar_t,struct std::char_traits<wchar_t>,class std::allocator<wchar_t> > from this Python object of type float"
     ]
    }
   ],
   "source": [
    "# Read the CSV file with SMILES strings\n",
    "Cleaned_Dataset = os.path.abspath('../data/Task3/cleaned_external_dataset.csv')\n",
    "cleaned_df = pd.read_csv(Cleaned_Dataset, delimiter=',')\n",
    "\n",
    "print(cleaned_df.columns)\n",
    "\n",
    "# Clean the SMILES strings and remove invalid ones\n",
    "valid_smiles = []\n",
    "for smile in cleaned_df['Smiles']:\n",
    "    mol = Chem.MolFromSmiles(smile)\n",
    "    if mol is not None:\n",
    "        valid_smiles.append(Chem.MolToSmiles(mol))\n",
    "    else:\n",
    "        valid_smiles.append(None)\n",
    "\n",
    "# Update the DataFrame with the cleaned SMILES\n",
    "cleaned_df['Smiles'] = valid_smiles\n",
    "\n",
    "# Remove rows with invalid SMILES\n",
    "cleaned_df = cleaned_df.dropna(subset=['Smiles'])\n",
    "\n",
    "# Save the cleaned data to a new CSV file\n",
    "cleaned_df.to_csv('cleaned_data.csv', index=False)"
   ]
  },
  {
   "cell_type": "code",
   "execution_count": 8,
   "metadata": {},
   "outputs": [],
   "source": [
    "# Check for NaN values in the 'Smiles' column\n",
    "import numpy as np\n",
    "Cleaned_Dataset = os.path.abspath('../data/Task3/cleaned_external_dataset.csv')\n",
    "cleaned_df = pd.read_csv(Cleaned_Dataset, delimiter=',')\n",
    "nan_indices = cleaned_df['Smiles'].index[cleaned_df['Smiles'].apply(lambda x: isinstance(x, float) and np.isnan(x))]\n",
    "\n",
    "# Remove rows with NaN values in the 'Smiles' column\n",
    "cleaned_df = cleaned_df.drop(nan_indices)\n",
    "\n",
    "# Clean the SMILES strings and remove invalid ones\n",
    "valid_smiles = []\n",
    "for smile in cleaned_df['Smiles']:\n",
    "    mol = Chem.MolFromSmiles(smile)\n",
    "    if mol is not None:\n",
    "        valid_smiles.append(Chem.MolToSmiles(mol))\n",
    "    else:\n",
    "        valid_smiles.append(None)\n",
    "\n",
    "# Update the DataFrame with the cleaned SMILES\n",
    "cleaned_df['Smiles'] = valid_smiles\n",
    "\n",
    "# Remove rows with invalid SMILES\n",
    "cleaned_df = cleaned_df.dropna(subset=['Smiles'])\n",
    "\n",
    "# Save the cleaned data to a new CSV file\n",
    "cleaned_df.to_csv('../data/Task3/cleaned_data.csv', index=False)"
   ]
  },
  {
   "cell_type": "code",
   "execution_count": 14,
   "metadata": {},
   "outputs": [
    {
     "name": "stdout",
     "output_type": "stream",
     "text": [
      "Number of standardized SMILES: 634\n"
     ]
    }
   ],
   "source": [
    "#standardize smiles\n",
    "import sys\n",
    "sys.path.append('../src')\n",
    "from src.processing import standardise_smiles_from_csv\n",
    "unstandardized_smiles = os.path.abspath('../data/Task3/cleaned_data.csv')\n",
    "standardized_smiles = os.path.abspath('../data/Task3/standardized_smiles.csv')\n",
    "#standardized and save file\n",
    "standardise_smiles_from_csv(unstandardized_smiles, standardized_smiles)"
   ]
  },
  {
   "cell_type": "markdown",
   "metadata": {},
   "source": [
    "### standarding smiles for ersilia model\n",
    "- Rename the Standardized_SMILES column to smiles\n",
    "- Move the smiles column to the first position for eos30gr to detect it"
   ]
  },
  {
   "cell_type": "code",
   "execution_count": 7,
   "metadata": {},
   "outputs": [],
   "source": [
    "import os\n",
    "import pandas as pd\n",
    "standardized = os.path.abspath('../data/Task3/standardized_smiles.csv')\n",
    "\n",
    "\n",
    "# Read the CSV file\n",
    "stan_df = pd.read_csv(standardized)\n",
    "\n",
    "# Remove the 'Smiles' column\n",
    "stan_df = stan_df.drop(columns=['smiles'])\n",
    "\n",
    "# Rename the 'Standardized_SMILES' column to 'Smiles'\n",
    "stan_df = stan_df.rename(columns={'Standardized_SMILES': 'smiles'})\n",
    "\n",
    "# Move the 'Smiles' column to the first position\n",
    "cols = stan_df.columns.tolist()\n",
    "cols = ['smiles'] + [col for col in cols if col != 'smiles']\n",
    "stan_df = stan_df[cols]\n",
    "\n",
    "# Save the modified DataFrame to a new CSV file\n",
    "stan_df.to_csv('../data/Task3/modified_file.csv', index=False)"
   ]
  },
  {
   "cell_type": "code",
   "execution_count": 14,
   "metadata": {},
   "outputs": [
    {
     "name": "stderr",
     "output_type": "stream",
     "text": [
      "[21:34:38] SMILES Parse Error: syntax error while parsing: nan\n",
      "[21:34:38] SMILES Parse Error: Failed parsing SMILES 'nan' for input: 'nan'\n",
      "[21:34:38] SMILES Parse Error: syntax error while parsing: nan\n",
      "[21:34:38] SMILES Parse Error: Failed parsing SMILES 'nan' for input: 'nan'\n",
      "[21:34:38] SMILES Parse Error: syntax error while parsing: nan\n",
      "[21:34:38] SMILES Parse Error: Failed parsing SMILES 'nan' for input: 'nan'\n",
      "[21:34:38] SMILES Parse Error: syntax error while parsing: nan\n",
      "[21:34:38] SMILES Parse Error: Failed parsing SMILES 'nan' for input: 'nan'\n",
      "[21:34:38] SMILES Parse Error: syntax error while parsing: nan\n",
      "[21:34:38] SMILES Parse Error: Failed parsing SMILES 'nan' for input: 'nan'\n",
      "[21:34:38] SMILES Parse Error: syntax error while parsing: nan\n",
      "[21:34:38] SMILES Parse Error: Failed parsing SMILES 'nan' for input: 'nan'\n",
      "[21:34:38] SMILES Parse Error: syntax error while parsing: nan\n",
      "[21:34:38] SMILES Parse Error: Failed parsing SMILES 'nan' for input: 'nan'\n",
      "[21:34:38] SMILES Parse Error: syntax error while parsing: nan\n",
      "[21:34:38] SMILES Parse Error: Failed parsing SMILES 'nan' for input: 'nan'\n",
      "[21:34:38] SMILES Parse Error: syntax error while parsing: nan\n",
      "[21:34:38] SMILES Parse Error: Failed parsing SMILES 'nan' for input: 'nan'\n",
      "[21:34:38] SMILES Parse Error: syntax error while parsing: nan\n",
      "[21:34:38] SMILES Parse Error: Failed parsing SMILES 'nan' for input: 'nan'\n",
      "[21:34:38] SMILES Parse Error: syntax error while parsing: nan\n",
      "[21:34:38] SMILES Parse Error: Failed parsing SMILES 'nan' for input: 'nan'\n",
      "[21:34:38] SMILES Parse Error: syntax error while parsing: nan\n",
      "[21:34:38] SMILES Parse Error: Failed parsing SMILES 'nan' for input: 'nan'\n",
      "[21:34:38] SMILES Parse Error: syntax error while parsing: nan\n",
      "[21:34:38] SMILES Parse Error: Failed parsing SMILES 'nan' for input: 'nan'\n",
      "[21:34:38] SMILES Parse Error: syntax error while parsing: nan\n",
      "[21:34:38] SMILES Parse Error: Failed parsing SMILES 'nan' for input: 'nan'\n",
      "[21:34:38] SMILES Parse Error: syntax error while parsing: nan\n",
      "[21:34:38] SMILES Parse Error: Failed parsing SMILES 'nan' for input: 'nan'\n",
      "[21:34:38] SMILES Parse Error: syntax error while parsing: nan\n",
      "[21:34:38] SMILES Parse Error: Failed parsing SMILES 'nan' for input: 'nan'\n",
      "[21:34:38] SMILES Parse Error: syntax error while parsing: nan\n",
      "[21:34:38] SMILES Parse Error: Failed parsing SMILES 'nan' for input: 'nan'\n"
     ]
    }
   ],
   "source": [
    "import pandas as pd\n",
    "from rdkit import Chem\n",
    "from rdkit import Chem\n",
    "\n",
    "# Read the CSV file\n",
    "modified_for_Ersilia = os.path.abspath('../data/Task3/modified_file.csv')\n",
    "df = pd.read_csv(modified_for_Ersilia)\n",
    "\n",
    "# Convert 'smiles' column to string\n",
    "df['smiles'] = df['smiles'].astype(str)\n",
    "\n",
    "# Filter out rows with empty or unstandardized SMILES\n",
    "valid_smiles = []\n",
    "for smile in df['smiles']:\n",
    "    if smile.strip() == \"\":\n",
    "        continue\n",
    "    mol = Chem.MolFromSmiles(smile)\n",
    "    if mol is not None:\n",
    "        valid_smiles.append(smile)\n",
    "\n",
    "# Update the DataFrame with the filtered SMILES\n",
    "df = df[df['smiles'].isin(valid_smiles)]\n",
    "\n",
    "# Save the filtered data back to the same file\n",
    "df.to_csv('../data/Task3/eos30gr_input.csv', index=False)"
   ]
  },
  {
   "cell_type": "markdown",
   "metadata": {},
   "source": [
    "<a id='section-2'></a>\n",
    "#### Load output generate by ersilia model eos30gr\n",
    "- the data was run using \n",
    "   - ersilia fetch eos30gr --from_github\n",
    "   - ersilia serve eos30gr\n",
    "   -  ersilia api run -i sample_input_smiles.csv -o eos30gr_output.csv"
   ]
  },
  {
   "cell_type": "code",
   "execution_count": 15,
   "metadata": {},
   "outputs": [
    {
     "name": "stdout",
     "output_type": "stream",
     "text": [
      "                           key  \\\n",
      "0  FNKBVTBXFLSTPB-LBPRGKRZSA-N   \n",
      "1  MDMWHKZANMNXTF-UHFFFAOYSA-N   \n",
      "2  BGMZUEKZENQUJY-UHFFFAOYSA-N   \n",
      "3  NIGWMJHCCYYCSF-UHFFFAOYSA-N   \n",
      "4  OCOKWVBYZHBHLU-UHFFFAOYSA-N   \n",
      "\n",
      "                                               input  activity10  \n",
      "0                  CCCN(CCC)[C@H]1CCc2c(F)ccc(O)c2C1    0.385019  \n",
      "1      COC(=O)c1c(C)[nH]c(C)c1C(=O)c1ccccc1Cc1ccccc1    0.457921  \n",
      "2                            COc1cc(CC(C)N)c(OC)cc1I    0.163036  \n",
      "3                            NC(Cc1ccc(Cl)cc1)C(=O)O    0.232673  \n",
      "4  CC(C)COC(=O)OCN1C(=O)CN(CCN2CC(=O)N(COC(=O)OCC...    0.157591  \n"
     ]
    }
   ],
   "source": [
    "#Load data and start comparing outputs\n",
    "eos30gr_output = os.path.abspath('../data/Task3/eos30gr_output.csv')\n",
    "df = pd.read_csv(eos30gr_output)\n",
    "\n",
    "# Display the first few rows\n",
    "print(df.head())"
   ]
  },
  {
   "cell_type": "code",
   "execution_count": 5,
   "metadata": {},
   "outputs": [],
   "source": [
    "#adding class to eos30gr output based of threshold 0.5\n",
    "# Set the threshold value\n",
    "threshold = 0.5\n",
    "\n",
    "# Apply the thresholding logic\n",
    "df['Class'] = df['activity10'].apply(lambda x: 1 if x > threshold else 0)\n",
    "\n",
    "# Save the updated DataFrame back to a CSV file\n",
    "df.to_csv('../data/Task3/eos30gr_with_class.csv', index=False)"
   ]
  },
  {
   "cell_type": "markdown",
   "metadata": {},
   "source": [
    "<a id='section-3'></a>\n",
    "Remove molecules which are availalbe in the eos30gr Training and validation set"
   ]
  },
  {
   "cell_type": "code",
   "execution_count": 7,
   "metadata": {},
   "outputs": [],
   "source": [
    "#Load and merge eso30gr training and testing datset \n",
    "training = os.path.abspath('../data/Task3/trainingset.csv')\n",
    "validation = os.path.abspath('../data/Task3/validationset.csv')\n",
    "train_df = pd.read_csv(training)\n",
    "validation_df = pd.read_csv(validation)\n",
    "\n",
    "# Get the list of SMILES from training and validation datasets\n",
    "train_smiles = set(train_df['Smiles'])\n",
    "validation_smiles = set(validation_df['Smiles'])\n",
    "\n",
    "# Read the eos30gr.csv file\n",
    "eos30gr = os.path.abspath('../data/Task3/eos30gr_with_class.csv')\n",
    "eos30gr_df = pd.read_csv(eos30gr)\n",
    "\n",
    "# Filter out the SMILES from eos30gr.csv that are in the training or validation datasets\n",
    "filtered_smiles = eos30gr_df[~eos30gr_df['smiles'].isin(train_smiles.union(validation_smiles))]\n",
    "\n",
    "# Save the filtered SMILES to a new CSV file\n",
    "filtered_smiles.to_csv('../data/Task3/filtered_eos30gr.csv', index=False)\n"
   ]
  },
  {
   "cell_type": "markdown",
   "metadata": {},
   "source": [
    "<a id='section-4'></a>\n",
    "Compare the two prediction"
   ]
  },
  {
   "cell_type": "code",
   "execution_count": 8,
   "metadata": {},
   "outputs": [
    {
     "name": "stdout",
     "output_type": "stream",
     "text": [
      "[[  0 354]\n",
      " [  0 284]]\n"
     ]
    }
   ],
   "source": [
    "#add class to eos30gr output\n",
    "eos30gr_output = os.path.abspath('../data/Task3/eos30gr_with_Class.csv')\n",
    "test = os.path.abspath('../data/Task3/test.csv')\n",
    "import pandas as pd\n",
    "from sklearn.metrics import confusion_matrix\n",
    "\n",
    "# Read the CSV files\n",
    "df1 = pd.read_csv(eos30gr_output)\n",
    "df2 = pd.read_csv(test)\n",
    "\n",
    "# Merge the two DataFrames on the 'smiles' column\n",
    "merged_df = pd.merge(df1, df2, on='smiles', how='inner')\n",
    "\n",
    "# Calculate the confusion matrix\n",
    "conf_matrix = confusion_matrix(merged_df['Class_x'], merged_df['Class_y'])\n",
    "\n",
    "print(conf_matrix)\n",
    "\n",
    "# Apply the threshold\n",
    "df['Class'] = (df['activity10'] > 0.5).astype(int)\n",
    "\n",
    "# Optional: Save the modified dataframe back to a CSV file\n",
    "df.to_csv('../data/Task3/confusion_matrix.csv', index=False)"
   ]
  },
  {
   "cell_type": "code",
   "execution_count": 9,
   "metadata": {},
   "outputs": [
    {
     "data": {
      "image/png": "[encoded data removed]",
      "text/plain": [
       "<Figure size 800x600 with 2 Axes>"
      ]
     },
     "metadata": {},
     "output_type": "display_data"
    }
   ],
   "source": [
    "import matplotlib.pyplot as plt\n",
    "import numpy as np\n",
    "\n",
    "# Confusion matrix values\n",
    "conf_matrix = np.array([[0, 354], [0, 284]])\n",
    "\n",
    "# Define the class labels\n",
    "classes = ['Negative (0)', 'Positive (1)']\n",
    "\n",
    "# Plot the confusion matrix\n",
    "plt.figure(figsize=(8, 6))\n",
    "plt.imshow(conf_matrix, interpolation='nearest', cmap=plt.cm.Blues)\n",
    "plt.title('Confusion Matrix')\n",
    "plt.colorbar()\n",
    "tick_marks = np.arange(len(classes))\n",
    "plt.xticks(tick_marks, classes, rotation=45)\n",
    "plt.yticks(tick_marks, classes)\n",
    "\n",
    "# Add text annotations\n",
    "thresh = conf_matrix.max() / 2.\n",
    "for i, j in np.ndindex(conf_matrix.shape):\n",
    "    plt.text(j, i, format(conf_matrix[i, j], 'd'),\n",
    "             horizontalalignment=\"center\",\n",
    "             color=\"white\" if conf_matrix[i, j] > thresh else \"black\")\n",
    "\n",
    "plt.ylabel('True Class')\n",
    "plt.xlabel('Predicted Class')\n",
    "plt.tight_layout()\n",
    "plt.show()"
   ]
  },
  {
   "cell_type": "markdown",
   "metadata": {},
   "source": [
    "Above output is expected since my test dataset onyl contains list og hERG blockers"
   ]
  },
  {
   "cell_type": "code",
   "execution_count": 10,
   "metadata": {},
   "outputs": [
    {
     "name": "stderr",
     "output_type": "stream",
     "text": [
      "c:\\Python312\\Lib\\site-packages\\sklearn\\metrics\\_ranking.py:1137: UndefinedMetricWarning: No negative samples in y_true, false positive value should be meaningless\n",
      "  warnings.warn(\n"
     ]
    },
    {
     "data": {
      "image/png": "[encoded data removed]",
      "text/plain": [
       "<Figure size 640x480 with 1 Axes>"
      ]
     },
     "metadata": {},
     "output_type": "display_data"
    }
   ],
   "source": [
    "import pandas as pd\n",
    "from sklearn.metrics import roc_curve, auc\n",
    "import matplotlib.pyplot as plt\n",
    "\n",
    "# Read the CSV files\n",
    "df1 = pd.read_csv(eos30gr_output)\n",
    "df2 = pd.read_csv(test)\n",
    "\n",
    "\n",
    "# Merge the two DataFrames on the 'smiles' column\n",
    "merged_df = pd.merge(df1, df2, on='smiles', how='inner')\n",
    "\n",
    "#  'activity10' is the model's output and 'Class_y' is the test class\n",
    "fpr, tpr, _ = roc_curve(merged_df['Class_y'], merged_df['activity10'])\n",
    "roc_auc = auc(fpr, tpr)\n",
    "\n",
    "# Plot the ROC curve\n",
    "plt.figure()\n",
    "plt.plot(fpr, tpr, color='darkorange', lw=2, label='ROC curve (area = %0.2f)' % roc_auc)\n",
    "plt.plot([0, 1], [0, 1], color='navy', lw=2, linestyle='--')\n",
    "plt.xlim([0.0, 1.0])\n",
    "plt.ylim([0.0, 1.05])\n",
    "plt.xlabel('False Positive Rate')\n",
    "plt.ylabel('True Positive Rate')\n",
    "plt.title('Receiver Operating Characteristic')\n",
    "plt.legend(loc=\"lower right\")\n",
    "plt.show()"
   ]
  },
  {
   "cell_type": "markdown",
   "metadata": {},
   "source": [
    "I need samples with negative datas to have more meaningful roc-cruve so I'll instead use Matthews Correlation Coefficient (MCC):instead"
   ]
  },
  {
   "cell_type": "code",
   "execution_count": 11,
   "metadata": {},
   "outputs": [
    {
     "name": "stdout",
     "output_type": "stream",
     "text": [
      "Precision: 1.0000, Recall: 0.4416, F1-Score: 0.6127, Accuracy: 0.4416, MCC: 0.0000\n"
     ]
    }
   ],
   "source": [
    "import pandas as pd\n",
    "from sklearn.metrics import precision_score, recall_score, f1_score, accuracy_score, matthews_corrcoef\n",
    "\n",
    "# Read the model output and test class CSV files\n",
    "model_output_df = pd.read_csv(eos30gr)\n",
    "test_class_df = pd.read_csv(test)\n",
    "\n",
    "#'Class' is the model's output and 'Class_Test' is the test class\n",
    "y_true = test_class_df['Class']\n",
    "y_pred = model_output_df['Class']\n",
    "\n",
    "# Calculate evaluation metrics\n",
    "precision = precision_score(y_true, y_pred)\n",
    "recall = recall_score(y_true, y_pred)\n",
    "f1score = f1_score(y_true, y_pred)\n",
    "accuracy = accuracy_score(y_true, y_pred)\n",
    "mcc = matthews_corrcoef(y_true, y_pred)\n",
    "\n",
    "# Print the evaluation metrics\n",
    "print(\"Precision: {:.4f}, Recall: {:.4f}, F1-Score: {:.4f}, Accuracy: {:.4f}, MCC: {:.4f}\".format(\n",
    "    precision, recall, f1score, accuracy, mcc))"
   ]
  },
  {
   "cell_type": "markdown",
   "metadata": {},
   "source": [
    "Precision: The eos30gr model correctly identified all positive instances it predicted, which is great! However, this metric alone doesn't tell us the full story.\n",
    "\n",
    "Recall: The eos30gr model managed to capture about 44% of all the actual positive instances. This means it's missing some positive cases.\n",
    "\n",
    "F1-Score: This metric combines precision and recall to give a balanced view. The eos30gr model achieved a score of about 0.61, indicating a decent balance between identifying true positives and not misclassifying negatives.\n",
    "\n",
    "Accuracy: The overall accuracy of the eos30gr model is about 44%, meaning it correctly predicted 44% of all instances. This metric can be misleading in imbalanced datasets.\n",
    "\n",
    "MCC (Matthews Correlation Coefficient): The MCC takes into account true positives, true negatives, false positives, and false negatives. The eos30gr model's MCC of 0.0 suggests that its performance is no better than random chance on this dataset.\n",
    "\n",
    "In summary, while the eos30gr model excels in precision, it falls short in recall, and its overall performance, as indicated by the MCC, is not satisfactory."
   ]
  },
  {
   "cell_type": "code",
   "execution_count": null,
   "metadata": {},
   "outputs": [],
   "source": []
  }
 ],
 "metadata": {
  "kernelspec": {
   "display_name": "Python 3",
   "language": "python",
   "name": "python3"
  },
  "language_info": {
   "codemirror_mode": {
    "name": "ipython",
    "version": 3
   },
   "file_extension": ".py",
   "mimetype": "text/x-python",
   "name": "python",
   "nbconvert_exporter": "python",
   "pygments_lexer": "ipython3",
   "version": "3.12.0"
  }
 },
 "nbformat": 4,
 "nbformat_minor": 2
}
